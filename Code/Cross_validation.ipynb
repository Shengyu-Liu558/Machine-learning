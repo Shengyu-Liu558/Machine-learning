{
  "nbformat": 4,
  "nbformat_minor": 0,
  "metadata": {
    "colab": {
      "name": "Assignment2_cross_validation.ipynb",
      "version": "0.3.2",
      "provenance": [],
      "collapsed_sections": []
    },
    "language_info": {
      "codemirror_mode": {
        "name": "ipython",
        "version": 3
      },
      "file_extension": ".py",
      "mimetype": "text/x-python",
      "name": "python",
      "nbconvert_exporter": "python",
      "pygments_lexer": "ipython3",
      "version": "3.7.1"
    },
    "kernelspec": {
      "display_name": "Python 3",
      "language": "python",
      "name": "python3"
    }
  },
  "cells": [
    {
      "cell_type": "markdown",
      "metadata": {
        "id": "lEqaacA0B-n8",
        "colab_type": "text"
      },
      "source": [
        "# 1. Import related packages"
      ]
    },
    {
      "cell_type": "code",
      "metadata": {
        "id": "v8kY9RAIB-n9",
        "colab_type": "code",
        "outputId": "b7267de4-fff1-4ade-9105-760ed4d835b9",
        "colab": {
          "base_uri": "https://localhost:8080/",
          "height": 34
        }
      },
      "source": [
        "%matplotlib inline\n",
        "import time\n",
        "import keras\n",
        "import warnings\n",
        "import numpy as np  \n",
        "import pandas as pd\n",
        "import seaborn as sns\n",
        "import tensorflow as tf\n",
        "import matplotlib.pyplot as plt \n",
        "from keras.optimizers import Adam\n",
        "from keras.layers import Input, Dense\n",
        "from mpl_toolkits.mplot3d import Axes3D\n",
        "from sklearn.datasets import fetch_mldata\n",
        "from keras.models import Sequential, Model\n",
        "from sklearn.metrics import classification_report\n",
        "from sklearn.neighbors import KNeighborsClassifier\n",
        "from sklearn.linear_model import LogisticRegression\n",
        "from tensorflow.keras.datasets import fashion_mnist\n",
        "from sklearn.metrics import mean_squared_error, confusion_matrix\n",
        "from sklearn.decomposition import PCA, TruncatedSVD\n",
        "from sklearn.preprocessing import StandardScaler, MinMaxScaler\n",
        "from sklearn.model_selection import train_test_split, cross_val_score\n",
        "from sklearn.svm import LinearSVC  "
      ],
      "execution_count": 0,
      "outputs": [
        {
          "output_type": "stream",
          "text": [
            "Using TensorFlow backend.\n"
          ],
          "name": "stderr"
        }
      ]
    },
    {
      "cell_type": "markdown",
      "metadata": {
        "id": "gK9T01tcB-oB",
        "colab_type": "text"
      },
      "source": [
        " # 2. Road data of MNIST "
      ]
    },
    {
      "cell_type": "markdown",
      "metadata": {
        "id": "vQ_VWMlVB-oC",
        "colab_type": "text"
      },
      "source": [
        "## 1.1 Road the raw data"
      ]
    },
    {
      "cell_type": "code",
      "metadata": {
        "id": "_pazrzIhB-oD",
        "colab_type": "code",
        "colab": {}
      },
      "source": [
        "# load the fashion_mnist data and split it into train and test\n",
        "(x_training, y_training), (x_test, y_test) = fashion_mnist.load_data()\n",
        "# make a copy of label\n",
        "label_train = y_training\n",
        "label_test = y_test"
      ],
      "execution_count": 0,
      "outputs": []
    },
    {
      "cell_type": "markdown",
      "metadata": {
        "id": "d4Xc2LHgB-oF",
        "colab_type": "text"
      },
      "source": [
        "## 1.2 Reshape the raw data"
      ]
    },
    {
      "cell_type": "code",
      "metadata": {
        "id": "T9-LwAHwB-oG",
        "colab_type": "code",
        "colab": {}
      },
      "source": [
        "# reshape data to 784 dimension\n",
        "original_data = np.reshape(x_training, (x_training.shape[0], x_training.shape[1] * x_training.shape[2]))\n",
        "# nomalization\n",
        "data_test = np.reshape(x_test, (x_test.shape[0], x_test.shape[1] * x_test.shape[2])).astype('float32') / 255.\n",
        "data_train = original_data.astype('float32') / 255"
      ],
      "execution_count": 0,
      "outputs": []
    },
    {
      "cell_type": "markdown",
      "metadata": {
        "id": "1db1NArNB-oJ",
        "colab_type": "text"
      },
      "source": [
        "# 3. Methods of dimensionality reduction"
      ]
    },
    {
      "cell_type": "markdown",
      "metadata": {
        "id": "wTRmZUKIB-oJ",
        "colab_type": "text"
      },
      "source": [
        "## 3.1 PCA data dimensionality reduction"
      ]
    },
    {
      "cell_type": "markdown",
      "metadata": {
        "id": "WPXdI1JsB-oK",
        "colab_type": "text"
      },
      "source": [
        "### Implement PCA dimensionality reduction"
      ]
    },
    {
      "cell_type": "code",
      "metadata": {
        "id": "-VD2VoFuB-oL",
        "colab_type": "code",
        "colab": {}
      },
      "source": [
        "# PCA function\n",
        "def pca_reduction(data_train,data_test,percentage):\n",
        "    warnings.filterwarnings('ignore')\n",
        "    new_data_train = data_train\n",
        "    new_data_test = data_test\n",
        "    new_pca = PCA(percentage) # retain how much similarity\n",
        "    new_data_train = new_pca.fit_transform(new_data_train)\n",
        "    new_data_test = new_pca.transform(new_data_test)\n",
        "    return new_data_train, new_data_test"
      ],
      "execution_count": 0,
      "outputs": []
    },
    {
      "cell_type": "markdown",
      "metadata": {
        "id": "RWYeJ-kCB-od",
        "colab_type": "text"
      },
      "source": [
        "## 3.2 SVD data dimensionality reduction"
      ]
    },
    {
      "cell_type": "markdown",
      "metadata": {
        "id": "ndxAcj2kB-oe",
        "colab_type": "text"
      },
      "source": [
        "### Implement SVD dimensionality reduction"
      ]
    },
    {
      "cell_type": "code",
      "metadata": {
        "id": "TSs_xLafB-of",
        "colab_type": "code",
        "colab": {}
      },
      "source": [
        "# SVD function\n",
        "def svd_reduction(train,test,num):\n",
        "    svd = TruncatedSVD(n_components= num, algorithm='randomized')\n",
        "    svd_data_train = svd.fit_transform(train)\n",
        "    svd_data_test = svd.transform(test)\n",
        "    return svd_data_train,svd_data_test,svd"
      ],
      "execution_count": 0,
      "outputs": []
    },
    {
      "cell_type": "markdown",
      "metadata": {
        "id": "cAzTlmC5B-ov",
        "colab_type": "text"
      },
      "source": [
        "## 3.3 Autoencoders data dimensionality reduction"
      ]
    },
    {
      "cell_type": "markdown",
      "metadata": {
        "id": "qlhbZOgFB-ow",
        "colab_type": "text"
      },
      "source": [
        "### Implement autoencoders with different dimensions"
      ]
    },
    {
      "cell_type": "code",
      "metadata": {
        "id": "avikrg_NB-ox",
        "colab_type": "code",
        "colab": {}
      },
      "source": [
        "def autoencoder_reduction(X_data,y_data,num):\n",
        "    X_data = X_data - 0.5\n",
        "    y_data = y_data - 0.5        \n",
        "    X_data = X_data.reshape((X_data.shape[0], -1))\n",
        "    y_data = y_data.reshape((y_data.shape[0], -1))\n",
        "\n",
        "\n",
        "    encoding_dim = num\n",
        "    \n",
        "    # input placeholder\n",
        "    input_img = Input(shape=(784,))\n",
        "\n",
        "    # encoder layers\n",
        "    encoded = Dense(128, activation='relu')(input_img)\n",
        "    encoded = Dense(64, activation='relu')(encoded)\n",
        "    encoded = Dense(10, activation='relu')(encoded)\n",
        "    encoder_output = Dense(encoding_dim)(encoded)\n",
        "\n",
        "    # decoder layers\n",
        "    decoded = Dense(10, activation='relu')(encoder_output)\n",
        "    decoded = Dense(64, activation='relu')(decoded)\n",
        "    decoded = Dense(128, activation='relu')(decoded)\n",
        "    decoded = Dense(784, activation='tanh')(decoded)\n",
        "\n",
        "    # autoencoder model\n",
        "    autoencoder = Model(input=input_img, output=decoded)\n",
        "\n",
        "    # encoder model for plotting\n",
        "    encoder = Model(input=input_img, output=encoder_output)\n",
        "\n",
        "    # compile autoencoder\n",
        "    autoencoder.compile(optimizer='adam', loss='mse')\n",
        "\n",
        "    # training\n",
        "    autoencoder.fit(X_data, X_data,nb_epoch = 20, batch_size=256, shuffle=True)\n",
        "    \n",
        "    encoded_test = encoder.predict(y_data)\n",
        "    encoded_train = encoder.predict(X_data)\n",
        "    return encoded_train, encoded_test"
      ],
      "execution_count": 0,
      "outputs": []
    },
    {
      "cell_type": "markdown",
      "metadata": {
        "id": "WQ1x2DDNB-oz",
        "colab_type": "text"
      },
      "source": [
        "# 4. KNN to the transformed data and K-Fold Cross Validation"
      ]
    },
    {
      "cell_type": "code",
      "metadata": {
        "id": "fmKZFqqXB-o0",
        "colab_type": "code",
        "colab": {}
      },
      "source": [
        "# knn function used to make cross validation for selecting optimal parameter\n",
        "def knn_valid(data,label):\n",
        "    knn_time_start = time.time()\n",
        "    k_range = range(1,20,2)  \n",
        "    k_scores = []    \n",
        "    for k in k_range:  \n",
        "        knn = KNeighborsClassifier(n_neighbors=k,weights='uniform', algorithm='auto', leaf_size=30, p=2, metric_params=None, n_jobs=5)  \n",
        "        scores = cross_val_score(knn, data, label, cv=10, scoring='accuracy')  \n",
        "        k_scores.append(scores.mean())  \n",
        "    print('validation done! Time elapsed: {:.6f} seconds'.format(time.time()-knn_time_start))\n",
        "\n",
        "    # draw figure for comparison\n",
        "    plt.plot(k_range, k_scores)\n",
        "    plt.xlim(0,len(k_range)*2)\n",
        "    plt.title(\"KNN Classifier\")\n",
        "    plt.xlabel('Value of K for KNN')  \n",
        "    plt.ylabel('Cross-Validated Accuracy')  \n",
        "    plt.show()  \n",
        "    return  k_scores"
      ],
      "execution_count": 0,
      "outputs": []
    },
    {
      "cell_type": "markdown",
      "metadata": {
        "id": "yVpiQ1G0B-o-",
        "colab_type": "text"
      },
      "source": [
        "# 5. Logistic Regression to the Transformed Data"
      ]
    },
    {
      "cell_type": "code",
      "metadata": {
        "id": "hRMyQpRYB-o_",
        "colab_type": "code",
        "colab": {}
      },
      "source": [
        "# logistic regression function used to make cross validation for selecting optimal parameter\n",
        "def lr_c_valid(data_train,label_train):\n",
        "    lr_time_start = time.time()\n",
        "    c_range = [1,20,40,60,80,100]  \n",
        "    c_scores = []    \n",
        "    for c in c_range:  \n",
        "        logisticRegr = LogisticRegression(multi_class='auto',solver='lbfgs',C=c, n_jobs=10)  \n",
        "        lr_scores = cross_val_score(logisticRegr, data_train, label_train, cv=10, scoring='accuracy')  \n",
        "        c_scores.append(lr_scores.mean())  \n",
        "    print('validation of LR done! Time elapsed: {:.6f} seconds'.format(time.time()-lr_time_start))\n",
        "    # draw figure for comparison\n",
        "    plt.plot(c_range, c_scores)\n",
        "    plt.title(\"LR Classifier\")\n",
        "    plt.xlabel('Value of C for LR')  \n",
        "    plt.ylabel('Cross-Validated Accuracy')  \n",
        "    plt.show()  \n",
        "      \n",
        "    return  c_scores"
      ],
      "execution_count": 0,
      "outputs": []
    },
    {
      "cell_type": "markdown",
      "metadata": {
        "id": "XETNQLTmB-pC",
        "colab_type": "text"
      },
      "source": [
        "# 6. Testing "
      ]
    },
    {
      "cell_type": "markdown",
      "metadata": {
        "id": "gAosJj3RB-pD",
        "colab_type": "text"
      },
      "source": [
        "## 6.1 PCA Visualization"
      ]
    },
    {
      "cell_type": "code",
      "metadata": {
        "id": "FYYJpx86B-pD",
        "colab_type": "code",
        "outputId": "352ec5fc-6dc8-4b76-833c-07c637636cfd",
        "colab": {
          "base_uri": "https://localhost:8080/",
          "height": 34
        }
      },
      "source": [
        "# Reduce data to 84 dims and retain 90% similarity with original data\n",
        "pca_time_start = time.time()\n",
        "pca_data_train,pca_data_test = pca_reduction(data_train,data_test,0.9)\n",
        "print('PCA done! Time elapsed: {:.6f} seconds'.format(time.time()-pca_time_start))"
      ],
      "execution_count": 0,
      "outputs": [
        {
          "output_type": "stream",
          "text": [
            "PCA done! Time elapsed: 14.619150 seconds\n"
          ],
          "name": "stdout"
        }
      ]
    },
    {
      "cell_type": "markdown",
      "metadata": {
        "id": "l1ziZ35nB-pS",
        "colab_type": "text"
      },
      "source": [
        "## 6.2 SVD Visualization"
      ]
    },
    {
      "cell_type": "code",
      "metadata": {
        "id": "xV2c6YWDB-pS",
        "colab_type": "code",
        "outputId": "c163bae9-853a-4ab6-95a2-1ed7a4f4d7f2",
        "colab": {
          "base_uri": "https://localhost:8080/",
          "height": 34
        }
      },
      "source": [
        "# Reduce data to 84 dims and retain 90% similarity with original data\n",
        "svd_time_start = time.time()\n",
        "svd_data_train, svd_data_test,new_svd = svd_reduction(data_train,data_test,84)\n",
        "print('SVD done! Time elapsed: {:.6f} seconds'.format(time.time()-svd_time_start))"
      ],
      "execution_count": 0,
      "outputs": [
        {
          "output_type": "stream",
          "text": [
            "SVD done! Time elapsed: 5.351847 seconds\n"
          ],
          "name": "stdout"
        }
      ]
    },
    {
      "cell_type": "markdown",
      "metadata": {
        "id": "ZwjA7Q9RB-pt",
        "colab_type": "text"
      },
      "source": [
        "## 6.3 Auto encoder Visualization"
      ]
    },
    {
      "cell_type": "code",
      "metadata": {
        "id": "94TTZ7ouB-pt",
        "colab_type": "code",
        "outputId": "87c47a18-ae5f-4e4c-d96c-e402aa9531ee",
        "colab": {
          "base_uri": "https://localhost:8080/",
          "height": 697
        }
      },
      "source": [
        "# Reduct data dimiension by auto encoder\n",
        "encoded_train, encoded_test = autoencoder_reduction(data_train,data_test,84)"
      ],
      "execution_count": 0,
      "outputs": [
        {
          "output_type": "stream",
          "text": [
            "Epoch 1/20\n",
            "60000/60000 [==============================] - 4s 70us/step - loss: 0.0466\n",
            "Epoch 2/20\n",
            "60000/60000 [==============================] - 4s 64us/step - loss: 0.0259\n",
            "Epoch 3/20\n",
            "60000/60000 [==============================] - 4s 65us/step - loss: 0.0237\n",
            "Epoch 4/20\n",
            "60000/60000 [==============================] - 4s 63us/step - loss: 0.0226\n",
            "Epoch 5/20\n",
            "60000/60000 [==============================] - 4s 64us/step - loss: 0.0218\n",
            "Epoch 6/20\n",
            "60000/60000 [==============================] - 4s 65us/step - loss: 0.0213\n",
            "Epoch 7/20\n",
            "60000/60000 [==============================] - 4s 64us/step - loss: 0.0209\n",
            "Epoch 8/20\n",
            "60000/60000 [==============================] - 4s 63us/step - loss: 0.0206\n",
            "Epoch 9/20\n",
            "60000/60000 [==============================] - 4s 63us/step - loss: 0.0203\n",
            "Epoch 10/20\n",
            "60000/60000 [==============================] - 4s 63us/step - loss: 0.0201\n",
            "Epoch 11/20\n",
            "60000/60000 [==============================] - 4s 62us/step - loss: 0.0199\n",
            "Epoch 12/20\n",
            "60000/60000 [==============================] - 4s 63us/step - loss: 0.0197\n",
            "Epoch 13/20\n",
            "60000/60000 [==============================] - 4s 64us/step - loss: 0.0196\n",
            "Epoch 14/20\n",
            "60000/60000 [==============================] - 4s 64us/step - loss: 0.0194\n",
            "Epoch 15/20\n",
            "60000/60000 [==============================] - 4s 63us/step - loss: 0.0193\n",
            "Epoch 16/20\n",
            "60000/60000 [==============================] - 4s 63us/step - loss: 0.0192\n",
            "Epoch 17/20\n",
            "60000/60000 [==============================] - 4s 62us/step - loss: 0.0190\n",
            "Epoch 18/20\n",
            "60000/60000 [==============================] - 4s 64us/step - loss: 0.0189\n",
            "Epoch 19/20\n",
            "60000/60000 [==============================] - 4s 66us/step - loss: 0.0189\n",
            "Epoch 20/20\n",
            "60000/60000 [==============================] - 4s 71us/step - loss: 0.0187\n"
          ],
          "name": "stdout"
        }
      ]
    },
    {
      "cell_type": "markdown",
      "metadata": {
        "id": "2sw82-gYB-pv",
        "colab_type": "text"
      },
      "source": [
        "## 7. KNN and crossValidation"
      ]
    },
    {
      "cell_type": "markdown",
      "metadata": {
        "id": "ssBSGnmWB-pv",
        "colab_type": "text"
      },
      "source": [
        "### 7.1 KNN with PCA cross validation"
      ]
    },
    {
      "cell_type": "code",
      "metadata": {
        "id": "ZLZXg1plB-pw",
        "colab_type": "code",
        "colab": {
          "base_uri": "https://localhost:8080/",
          "height": 312
        },
        "outputId": "f78990bd-8b5a-4173-8325-d6b6feed67dd"
      },
      "source": [
        "# call validation function of knn\n",
        "k_val_pca_scores = knn_valid(pca_data_train,label_train)"
      ],
      "execution_count": 12,
      "outputs": [
        {
          "output_type": "stream",
          "text": [
            "validation done! Time elapsed: 3316.269355 seconds\n"
          ],
          "name": "stdout"
        },
        {
          "output_type": "display_data",
          "data": {
            "image/png": "[encoded data removed]",
            "text/plain": [
              "<Figure size 432x288 with 1 Axes>"
            ]
          },
          "metadata": {
            "tags": []
          }
        }
      ]
    },
    {
      "cell_type": "code",
      "metadata": {
        "id": "0Vz1t_j9lVD2",
        "colab_type": "code",
        "outputId": "d87866e5-21c3-45bc-c192-fa670b3c80ac",
        "colab": {
          "base_uri": "https://localhost:8080/",
          "height": 187
        }
      },
      "source": [
        "k_val_pca_scores"
      ],
      "execution_count": 15,
      "outputs": [
        {
          "output_type": "execute_result",
          "data": {
            "text/plain": [
              "[0.8501166666666669,\n",
              " 0.8586333333333332,\n",
              " 0.8636666666666667,\n",
              " 0.86395,\n",
              " 0.8646833333333334,\n",
              " 0.8620333333333333,\n",
              " 0.8616666666666667,\n",
              " 0.8608499999999999,\n",
              " 0.8599,\n",
              " 0.8573833333333333]"
            ]
          },
          "metadata": {
            "tags": []
          },
          "execution_count": 15
        }
      ]
    },
    {
      "cell_type": "code",
      "metadata": {
        "id": "RY6S4B1aWXdt",
        "colab_type": "code",
        "outputId": "1f526f12-e40a-4eca-cf3c-7d1b07b4a120",
        "colab": {
          "base_uri": "https://localhost:8080/",
          "height": 34
        }
      },
      "source": [
        "max_score = max(k_val_pca_scores) # max mean \n",
        "best_k = k_val_pca_scores.index(max_score)*2 +1 # get k value\n",
        "print(max_score,\"Optimal parameter:\",best_k)"
      ],
      "execution_count": 16,
      "outputs": [
        {
          "output_type": "stream",
          "text": [
            "0.8646833333333334 Optimal parameter: 9\n"
          ],
          "name": "stdout"
        }
      ]
    },
    {
      "cell_type": "code",
      "metadata": {
        "id": "TrSv9dIsNUdR",
        "colab_type": "code",
        "colab": {}
      },
      "source": [
        "# use the optimal parameter to construct model\n",
        "new_pca_knn = KNeighborsClassifier(n_neighbors=9,weights='uniform', algorithm='auto', leaf_size=30, p=2, metric_params=None, n_jobs=5)"
      ],
      "execution_count": 0,
      "outputs": []
    },
    {
      "cell_type": "code",
      "metadata": {
        "id": "nbpiez_WNUdU",
        "colab_type": "code",
        "colab": {}
      },
      "source": [
        "knn_pca_model = new_pca_knn.fit(pca_data_train,label_train) # check accuracy"
      ],
      "execution_count": 0,
      "outputs": []
    },
    {
      "cell_type": "code",
      "metadata": {
        "colab_type": "code",
        "outputId": "77e3f092-7d8d-4afe-d99f-cb7b954929e4",
        "id": "9Tdh5y3rCljf",
        "colab": {
          "base_uri": "https://localhost:8080/",
          "height": 34
        }
      },
      "source": [
        "new_pca_knn.score(pca_data_test,label_test) "
      ],
      "execution_count": 0,
      "outputs": [
        {
          "output_type": "execute_result",
          "data": {
            "text/plain": [
              "0.8615"
            ]
          },
          "metadata": {
            "tags": []
          },
          "execution_count": 93
        }
      ]
    },
    {
      "cell_type": "markdown",
      "metadata": {
        "id": "uIkBZ220B-p4",
        "colab_type": "text"
      },
      "source": [
        "### 7.2 KNN with SVD  cross validation"
      ]
    },
    {
      "cell_type": "code",
      "metadata": {
        "id": "3aF_kf_qB-p5",
        "colab_type": "code",
        "outputId": "7d7eb967-d74e-4fd2-fac5-5ad95603c1d9",
        "colab": {
          "base_uri": "https://localhost:8080/",
          "height": 312
        }
      },
      "source": [
        "# SVD validation\n",
        "k_val_svd_score = knn_valid(svd_data_train,label_train)"
      ],
      "execution_count": 0,
      "outputs": [
        {
          "output_type": "stream",
          "text": [
            "validation done! Time elapsed: 5035.351722 seconds\n"
          ],
          "name": "stdout"
        },
        {
          "output_type": "display_data",
          "data": {
            "image/png": "[encoded data removed]",
            "text/plain": [
              "<Figure size 432x288 with 1 Axes>"
            ]
          },
          "metadata": {
            "tags": []
          }
        }
      ]
    },
    {
      "cell_type": "code",
      "metadata": {
        "id": "siKmbgNfB-p9",
        "colab_type": "code",
        "outputId": "6b696613-6faa-476c-b071-7ad0914f9526",
        "colab": {
          "base_uri": "https://localhost:8080/",
          "height": 187
        }
      },
      "source": [
        "k_val_svd_score"
      ],
      "execution_count": 0,
      "outputs": [
        {
          "output_type": "execute_result",
          "data": {
            "text/plain": [
              "[0.8506333333333332,\n",
              " 0.8593166666666667,\n",
              " 0.8635999999999999,\n",
              " 0.8641666666666667,\n",
              " 0.8636000000000001,\n",
              " 0.86175,\n",
              " 0.8613,\n",
              " 0.8605333333333334,\n",
              " 0.8594166666666666,\n",
              " 0.8576333333333335]"
            ]
          },
          "metadata": {
            "tags": []
          },
          "execution_count": 15
        }
      ]
    },
    {
      "cell_type": "code",
      "metadata": {
        "id": "2xG_mD99oUDP",
        "colab_type": "code",
        "outputId": "0d946adb-49af-4129-d0b8-c96bcce7c3c4",
        "colab": {
          "base_uri": "https://localhost:8080/",
          "height": 34
        }
      },
      "source": [
        "# find max mean of accuracies and choose optimal K\n",
        "max_score = max(k_val_svd_score)\n",
        "best_k = k_val_svd_score.index(max_score)*2 +1\n",
        "print(max_score,\"Optimal parameter:\",best_k)"
      ],
      "execution_count": 0,
      "outputs": [
        {
          "output_type": "stream",
          "text": [
            "0.8641666666666667 Optimal parameter: 7\n"
          ],
          "name": "stdout"
        }
      ]
    },
    {
      "cell_type": "code",
      "metadata": {
        "id": "pXFuXJbzNUde",
        "colab_type": "code",
        "colab": {}
      },
      "source": [
        "new_svd_knn = KNeighborsClassifier(n_neighbors=7,weights='uniform', algorithm='auto', leaf_size=30, p=2, metric_params=None, n_jobs=5)"
      ],
      "execution_count": 0,
      "outputs": []
    },
    {
      "cell_type": "code",
      "metadata": {
        "id": "BoYXeBwcNUdg",
        "colab_type": "code",
        "colab": {}
      },
      "source": [
        "knn_svd_model = new_svd_knn.fit(svd_data_train,label_train)"
      ],
      "execution_count": 0,
      "outputs": []
    },
    {
      "cell_type": "code",
      "metadata": {
        "id": "xKQt18S3NUdh",
        "colab_type": "code",
        "outputId": "916fdf6f-03cd-4c36-9ebb-5a44f29a2ec1",
        "colab": {
          "base_uri": "https://localhost:8080/",
          "height": 34
        }
      },
      "source": [
        "new_svd_knn.score(svd_data_test,label_test) # optimal result"
      ],
      "execution_count": 0,
      "outputs": [
        {
          "output_type": "execute_result",
          "data": {
            "text/plain": [
              "0.8611"
            ]
          },
          "metadata": {
            "tags": []
          },
          "execution_count": 83
        }
      ]
    },
    {
      "cell_type": "markdown",
      "metadata": {
        "id": "irahaThSB-qE",
        "colab_type": "text"
      },
      "source": [
        "### 7.3 KNN with Auto-encoder  cross validation"
      ]
    },
    {
      "cell_type": "code",
      "metadata": {
        "id": "QWT8E-ENB-qF",
        "colab_type": "code",
        "outputId": "aed4c9db-15ec-4fe9-bce2-6159edc66c25",
        "colab": {
          "base_uri": "https://localhost:8080/",
          "height": 312
        }
      },
      "source": [
        "# knn validation with auto-encoder\n",
        "k_val_encoder_score = knn_valid(encoded_train,label_train)"
      ],
      "execution_count": 0,
      "outputs": [
        {
          "output_type": "stream",
          "text": [
            "validation done! Time elapsed: 1733.345294 seconds\n"
          ],
          "name": "stdout"
        },
        {
          "output_type": "display_data",
          "data": {
            "image/png": "[encoded data removed]",
            "text/plain": [
              "<Figure size 432x288 with 1 Axes>"
            ]
          },
          "metadata": {
            "tags": []
          }
        }
      ]
    },
    {
      "cell_type": "code",
      "metadata": {
        "id": "OYqZEfP3B-qJ",
        "colab_type": "code",
        "outputId": "5ab29e05-9f50-4d4d-c5c1-2b625faa98b5",
        "colab": {
          "base_uri": "https://localhost:8080/",
          "height": 187
        }
      },
      "source": [
        "k_val_encoder_score"
      ],
      "execution_count": 0,
      "outputs": [
        {
          "output_type": "execute_result",
          "data": {
            "text/plain": [
              "[0.7838999999999999,\n",
              " 0.8083666666666666,\n",
              " 0.8158666666666667,\n",
              " 0.8202166666666667,\n",
              " 0.8207666666666666,\n",
              " 0.8221,\n",
              " 0.8224,\n",
              " 0.82205,\n",
              " 0.8225833333333334,\n",
              " 0.8217166666666668]"
            ]
          },
          "metadata": {
            "tags": []
          },
          "execution_count": 15
        }
      ]
    },
    {
      "cell_type": "code",
      "metadata": {
        "id": "DOYIV90rKE45",
        "colab_type": "code",
        "outputId": "92f76f47-5c9e-4a57-ba46-6e255d535f64",
        "colab": {
          "base_uri": "https://localhost:8080/",
          "height": 34
        }
      },
      "source": [
        "# find max mean of accuracies and best parameter\n",
        "max_score = max(k_val_encoder_score)\n",
        "best_k = k_val_encoder_score.index(max_score)*2+1\n",
        "print(max_score,\"Optimal parameter:\",best_k)"
      ],
      "execution_count": 0,
      "outputs": [
        {
          "output_type": "stream",
          "text": [
            "0.8225833333333334 Optimal parameter: 17\n"
          ],
          "name": "stdout"
        }
      ]
    },
    {
      "cell_type": "code",
      "metadata": {
        "id": "bezvWU6-NUdq",
        "colab_type": "code",
        "colab": {}
      },
      "source": [
        "new_encoder_knn = KNeighborsClassifier(n_neighbors=17,weights='uniform', algorithm='auto', leaf_size=30, p=2, metric_params=None, n_jobs=5)"
      ],
      "execution_count": 0,
      "outputs": []
    },
    {
      "cell_type": "code",
      "metadata": {
        "id": "V4qFyACqNUdr",
        "colab_type": "code",
        "outputId": "018794a3-6c3f-4ff9-c90b-db893117685f",
        "colab": {
          "base_uri": "https://localhost:8080/",
          "height": 68
        }
      },
      "source": [
        "new_encoder_knn.fit(encoded_train,label_train)\n"
      ],
      "execution_count": 0,
      "outputs": [
        {
          "output_type": "execute_result",
          "data": {
            "text/plain": [
              "KNeighborsClassifier(algorithm='auto', leaf_size=30, metric='minkowski',\n",
              "                     metric_params=None, n_jobs=5, n_neighbors=17, p=2,\n",
              "                     weights='uniform')"
            ]
          },
          "metadata": {
            "tags": []
          },
          "execution_count": 85
        }
      ]
    },
    {
      "cell_type": "code",
      "metadata": {
        "id": "ti2QIbK6NUdt",
        "colab_type": "code",
        "outputId": "35f1a3aa-9931-4e3b-ea7c-b19417035060",
        "colab": {
          "base_uri": "https://localhost:8080/",
          "height": 34
        }
      },
      "source": [
        "# check optimal result\n",
        "new_encoder_knn.score(encoded_test,label_test) "
      ],
      "execution_count": 0,
      "outputs": [
        {
          "output_type": "execute_result",
          "data": {
            "text/plain": [
              "0.8141"
            ]
          },
          "metadata": {
            "tags": []
          },
          "execution_count": 86
        }
      ]
    },
    {
      "cell_type": "code",
      "metadata": {
        "id": "1YeAGRc7Rl9D",
        "colab_type": "code",
        "colab": {}
      },
      "source": [
        ""
      ],
      "execution_count": 0,
      "outputs": []
    },
    {
      "cell_type": "markdown",
      "metadata": {
        "id": "cZB2hin9B-qV",
        "colab_type": "text"
      },
      "source": [
        "## 8. Logistic Regression and crossValidation"
      ]
    },
    {
      "cell_type": "markdown",
      "metadata": {
        "id": "bOcW2hN9HMkS",
        "colab_type": "text"
      },
      "source": [
        "### 8.1 LR with PCA cross validation"
      ]
    },
    {
      "cell_type": "code",
      "metadata": {
        "id": "qxHMV_ZDB-qV",
        "colab_type": "code",
        "outputId": "63639906-ffa4-42bd-dd1b-c625b32dcb39",
        "colab": {
          "base_uri": "https://localhost:8080/",
          "height": 312
        }
      },
      "source": [
        "# calling logistic regression function\n",
        "lr_val_c_scores = lr_c_valid(pca_data_train,label_train) "
      ],
      "execution_count": 0,
      "outputs": [
        {
          "output_type": "stream",
          "text": [
            "validation of LR done! Time elapsed: 571.152779 seconds\n"
          ],
          "name": "stdout"
        },
        {
          "output_type": "display_data",
          "data": {
            "image/png": "[encoded data removed]",
            "text/plain": [
              "<Figure size 432x288 with 1 Axes>"
            ]
          },
          "metadata": {
            "tags": []
          }
        }
      ]
    },
    {
      "cell_type": "code",
      "metadata": {
        "id": "8A4OzcWH9UdJ",
        "colab_type": "code",
        "outputId": "1f5ebf79-f7c8-425a-aa86-a0c81114460c",
        "colab": {
          "base_uri": "https://localhost:8080/",
          "height": 119
        }
      },
      "source": [
        "lr_val_c_scores # mean of each accuracy"
      ],
      "execution_count": 0,
      "outputs": [
        {
          "output_type": "execute_result",
          "data": {
            "text/plain": [
              "[0.8479833333333333,\n",
              " 0.84825,\n",
              " 0.8482000000000001,\n",
              " 0.8482333333333333,\n",
              " 0.8483166666666666,\n",
              " 0.8478666666666668]"
            ]
          },
          "metadata": {
            "tags": []
          },
          "execution_count": 20
        }
      ]
    },
    {
      "cell_type": "code",
      "metadata": {
        "id": "StWpeeXMIL9_",
        "colab_type": "code",
        "outputId": "66e4de5c-2575-430d-d853-94c9072da0f7",
        "colab": {
          "base_uri": "https://localhost:8080/",
          "height": 34
        }
      },
      "source": [
        "max_score = max(lr_val_c_scores)\n",
        "best_c = lr_val_c_scores.index(max_score)*20\n",
        "print(max_score,\"Optimal parameter:\",best_c)"
      ],
      "execution_count": 0,
      "outputs": [
        {
          "output_type": "stream",
          "text": [
            "0.8483166666666666 Optimal parameter: 80\n"
          ],
          "name": "stdout"
        }
      ]
    },
    {
      "cell_type": "code",
      "metadata": {
        "id": "zhllqWKCKc4A",
        "colab_type": "code",
        "outputId": "a7bb2018-8d4b-4b0b-f1e3-e2fac0e26e9e",
        "colab": {
          "base_uri": "https://localhost:8080/",
          "height": 153
        }
      },
      "source": [
        "new_lr = LogisticRegression(C=80,class_weight=None,n_jobs=10,solver='lbfgs',verbose=1)\n",
        "new_lr.fit(pca_data_train,label_train)"
      ],
      "execution_count": 0,
      "outputs": [
        {
          "output_type": "stream",
          "text": [
            "[Parallel(n_jobs=10)]: Using backend LokyBackend with 10 concurrent workers.\n",
            "[Parallel(n_jobs=10)]: Done   2 out of  10 | elapsed:   33.7s remaining:  2.2min\n",
            "[Parallel(n_jobs=10)]: Done  10 out of  10 | elapsed:  1.1min finished\n"
          ],
          "name": "stderr"
        },
        {
          "output_type": "execute_result",
          "data": {
            "text/plain": [
              "LogisticRegression(C=80, class_weight=None, dual=False, fit_intercept=True,\n",
              "                   intercept_scaling=1, l1_ratio=None, max_iter=100,\n",
              "                   multi_class='warn', n_jobs=10, penalty='l2',\n",
              "                   random_state=None, solver='lbfgs', tol=0.0001, verbose=1,\n",
              "                   warm_start=False)"
            ]
          },
          "metadata": {
            "tags": []
          },
          "execution_count": 22
        }
      ]
    },
    {
      "cell_type": "code",
      "metadata": {
        "id": "LyZa48kZK1Ry",
        "colab_type": "code",
        "outputId": "4a95459f-994d-4f6b-af06-91eb2eeb57cd",
        "colab": {
          "base_uri": "https://localhost:8080/",
          "height": 51
        }
      },
      "source": [
        "time_start = time.time()\n",
        "print(new_lr.score(pca_data_test,label_test))\n",
        "print('Time elapsed: {:.6f} seconds'.format(time.time()-time_start))"
      ],
      "execution_count": 0,
      "outputs": [
        {
          "output_type": "stream",
          "text": [
            "0.8342\n",
            "Time elapsed: 0.010429 seconds\n"
          ],
          "name": "stdout"
        }
      ]
    },
    {
      "cell_type": "markdown",
      "metadata": {
        "id": "HblxVahzHQjT",
        "colab_type": "text"
      },
      "source": [
        "### 8.2 LR with SVD cross validation"
      ]
    },
    {
      "cell_type": "code",
      "metadata": {
        "id": "Y7u-zdASPV5y",
        "colab_type": "code",
        "outputId": "8948ff5a-a5f9-4a79-f74d-7749858f0dfa",
        "colab": {
          "base_uri": "https://localhost:8080/",
          "height": 312
        }
      },
      "source": [
        "lr_svd_scores = lr_c_valid(svd_data_train,label_train) # calling LR validation"
      ],
      "execution_count": 0,
      "outputs": [
        {
          "output_type": "stream",
          "text": [
            "validation of LR done! Time elapsed: 583.827801 seconds\n"
          ],
          "name": "stdout"
        },
        {
          "output_type": "display_data",
          "data": {
            "image/png": "[encoded data removed]",
            "text/plain": [
              "<Figure size 432x288 with 1 Axes>"
            ]
          },
          "metadata": {
            "tags": []
          }
        }
      ]
    },
    {
      "cell_type": "code",
      "metadata": {
        "id": "Bg9Sp9dgPy14",
        "colab_type": "code",
        "outputId": "39162fd3-a758-4d2b-8ded-9e31cc1fcaae",
        "colab": {
          "base_uri": "https://localhost:8080/",
          "height": 119
        }
      },
      "source": [
        "lr_svd_scores"
      ],
      "execution_count": 0,
      "outputs": [
        {
          "output_type": "execute_result",
          "data": {
            "text/plain": [
              "[0.8467499999999999,\n",
              " 0.84665,\n",
              " 0.8468666666666668,\n",
              " 0.8466666666666667,\n",
              " 0.8468333333333332,\n",
              " 0.8472]"
            ]
          },
          "metadata": {
            "tags": []
          },
          "execution_count": 25
        }
      ]
    },
    {
      "cell_type": "code",
      "metadata": {
        "id": "0wsJt5I4IlwY",
        "colab_type": "code",
        "outputId": "42fca01a-5f25-4dbe-c62b-6a71bbdf76aa",
        "colab": {
          "base_uri": "https://localhost:8080/",
          "height": 34
        }
      },
      "source": [
        "max_score = max(lr_svd_scores)\n",
        "best_c = lr_svd_scores.index(max_score)*20\n",
        "print(max_score,\"Optimal parameter:\",best_c)"
      ],
      "execution_count": 0,
      "outputs": [
        {
          "output_type": "stream",
          "text": [
            "0.8472 Optimal parameter: 100\n"
          ],
          "name": "stdout"
        }
      ]
    },
    {
      "cell_type": "code",
      "metadata": {
        "id": "ov0Z0QJEQKrw",
        "colab_type": "code",
        "outputId": "2a25486e-a2e9-48f8-e494-973ed8ee65f2",
        "colab": {
          "base_uri": "https://localhost:8080/",
          "height": 153
        }
      },
      "source": [
        "# fit model\n",
        "new_lr_svd = LogisticRegression(C=100,class_weight=None,n_jobs=10,solver='lbfgs',verbose=1)\n",
        "new_lr_svd.fit(svd_data_train,label_train)"
      ],
      "execution_count": 0,
      "outputs": [
        {
          "output_type": "stream",
          "text": [
            "[Parallel(n_jobs=10)]: Using backend LokyBackend with 10 concurrent workers.\n",
            "[Parallel(n_jobs=10)]: Done   2 out of  10 | elapsed:   31.8s remaining:  2.1min\n",
            "[Parallel(n_jobs=10)]: Done  10 out of  10 | elapsed:  1.0min finished\n"
          ],
          "name": "stderr"
        },
        {
          "output_type": "execute_result",
          "data": {
            "text/plain": [
              "LogisticRegression(C=100, class_weight=None, dual=False, fit_intercept=True,\n",
              "                   intercept_scaling=1, l1_ratio=None, max_iter=100,\n",
              "                   multi_class='warn', n_jobs=10, penalty='l2',\n",
              "                   random_state=None, solver='lbfgs', tol=0.0001, verbose=1,\n",
              "                   warm_start=False)"
            ]
          },
          "metadata": {
            "tags": []
          },
          "execution_count": 27
        }
      ]
    },
    {
      "cell_type": "code",
      "metadata": {
        "id": "dKwDRFrHQQBl",
        "colab_type": "code",
        "outputId": "e1e907e7-b1d2-4d79-8b69-05c41c42bccb",
        "colab": {
          "base_uri": "https://localhost:8080/",
          "height": 51
        }
      },
      "source": [
        "time_start = time.time()\n",
        "print(new_lr_svd.score(svd_data_test,label_test)) # check result\n",
        "print('Time elapsed: {:.6f} seconds'.format(time.time()-time_start)) "
      ],
      "execution_count": 0,
      "outputs": [
        {
          "output_type": "stream",
          "text": [
            "0.8353\n",
            "Time elapsed: 0.016880 seconds\n"
          ],
          "name": "stdout"
        }
      ]
    },
    {
      "cell_type": "code",
      "metadata": {
        "id": "i3xU6zctaRLx",
        "colab_type": "code",
        "colab": {}
      },
      "source": [
        ""
      ],
      "execution_count": 0,
      "outputs": []
    },
    {
      "cell_type": "markdown",
      "metadata": {
        "id": "ppY9uIr_HVEH",
        "colab_type": "text"
      },
      "source": [
        "### 8.3 LR with auto encoder cross validation"
      ]
    },
    {
      "cell_type": "code",
      "metadata": {
        "id": "EzIa0uHVPy4w",
        "colab_type": "code",
        "outputId": "2fc436fd-71d9-470c-bb75-b045d0b79921",
        "colab": {
          "base_uri": "https://localhost:8080/",
          "height": 312
        }
      },
      "source": [
        "lr_encoded_scores = lr_c_valid(encoded_train,label_train)"
      ],
      "execution_count": 0,
      "outputs": [
        {
          "output_type": "stream",
          "text": [
            "validation of LR done! Time elapsed: 580.460504 seconds\n"
          ],
          "name": "stdout"
        },
        {
          "output_type": "display_data",
          "data": {
            "image/png": "[encoded data removed]",
            "text/plain": [
              "<Figure size 432x288 with 1 Axes>"
            ]
          },
          "metadata": {
            "tags": []
          }
        }
      ]
    },
    {
      "cell_type": "code",
      "metadata": {
        "id": "854I4OuVPy7u",
        "colab_type": "code",
        "outputId": "8fd8427f-79c8-45e4-8333-02d4bc5c505f",
        "colab": {
          "base_uri": "https://localhost:8080/",
          "height": 119
        }
      },
      "source": [
        "lr_encoded_scores"
      ],
      "execution_count": 0,
      "outputs": [
        {
          "output_type": "execute_result",
          "data": {
            "text/plain": [
              "[0.7416166666666667,\n",
              " 0.7410666666666665,\n",
              " 0.7410833333333333,\n",
              " 0.7407666666666667,\n",
              " 0.7413666666666667,\n",
              " 0.7414833333333333]"
            ]
          },
          "metadata": {
            "tags": []
          },
          "execution_count": 29
        }
      ]
    },
    {
      "cell_type": "code",
      "metadata": {
        "id": "TVDx8rEHIsp9",
        "colab_type": "code",
        "outputId": "dc43e285-1f81-44d3-848b-dd7c3cf17901",
        "colab": {
          "base_uri": "https://localhost:8080/",
          "height": 34
        }
      },
      "source": [
        "max_score = max(lr_encoded_scores)\n",
        "best_c = lr_encoded_scores.index(max_score)*20\n",
        "print(max_score,\"Optimal parameter:\",best_c)"
      ],
      "execution_count": 0,
      "outputs": [
        {
          "output_type": "stream",
          "text": [
            "0.7416166666666667 Optimal parameter: 0\n"
          ],
          "name": "stdout"
        }
      ]
    },
    {
      "cell_type": "code",
      "metadata": {
        "id": "OnufwT5EswxE",
        "colab_type": "code",
        "outputId": "d6685ac9-0eab-4f3e-ef07-36eec6afa7f7",
        "colab": {
          "base_uri": "https://localhost:8080/",
          "height": 153
        }
      },
      "source": [
        "new_lr_encoded = LogisticRegression(C=100,class_weight=None,n_jobs=10,solver='lbfgs',verbose=1)\n",
        "new_lr_encoded.fit(encoded_train,label_train)"
      ],
      "execution_count": 0,
      "outputs": [
        {
          "output_type": "stream",
          "text": [
            "[Parallel(n_jobs=10)]: Using backend LokyBackend with 10 concurrent workers.\n",
            "[Parallel(n_jobs=10)]: Done   2 out of  10 | elapsed:   31.4s remaining:  2.1min\n",
            "[Parallel(n_jobs=10)]: Done  10 out of  10 | elapsed:  1.0min finished\n"
          ],
          "name": "stderr"
        },
        {
          "output_type": "execute_result",
          "data": {
            "text/plain": [
              "LogisticRegression(C=100, class_weight=None, dual=False, fit_intercept=True,\n",
              "                   intercept_scaling=1, l1_ratio=None, max_iter=100,\n",
              "                   multi_class='warn', n_jobs=10, penalty='l2',\n",
              "                   random_state=None, solver='lbfgs', tol=0.0001, verbose=1,\n",
              "                   warm_start=False)"
            ]
          },
          "metadata": {
            "tags": []
          },
          "execution_count": 31
        }
      ]
    },
    {
      "cell_type": "code",
      "metadata": {
        "id": "AVRFi43sswzv",
        "colab_type": "code",
        "outputId": "2b93f363-677d-42a9-cf23-700b007b62cd",
        "colab": {
          "base_uri": "https://localhost:8080/",
          "height": 51
        }
      },
      "source": [
        "time_start = time.time()\n",
        "print(new_lr_encoded.score(encoded_test,label_test))\n",
        "print('Time elapsed: {:.6f} seconds'.format(time.time()-time_start))"
      ],
      "execution_count": 0,
      "outputs": [
        {
          "output_type": "stream",
          "text": [
            "0.7117\n",
            "Time elapsed: 0.022159 seconds\n"
          ],
          "name": "stdout"
        }
      ]
    },
    {
      "cell_type": "markdown",
      "metadata": {
        "colab_type": "text",
        "id": "zXwifvgxSAqG"
      },
      "source": [
        "## 9. Random Forest and crossValidation"
      ]
    },
    {
      "cell_type": "code",
      "metadata": {
        "colab_type": "code",
        "id": "oN3WXtdNYXEG",
        "colab": {}
      },
      "source": [
        "def RandomForest_valid(data_train,label_train): # validation funtion for random forest\n",
        "    time_start = time.time()\n",
        "    rfc_val_scores = []\n",
        "    range_n = [10,50,100]\n",
        "    for i in range_n:\n",
        "      rfc = RandomForestClassifier(n_estimators=i,\n",
        "                                   random_state=50,\n",
        "                                  n_jobs=50)\n",
        "      rfc_val_scores.append(cross_val_score(rfc,data_train,label_train,cv=10).mean())\n",
        "    print('validation of random forest done! Time elapsed: {:.6f} seconds'.format(time.time()-time_start))\n",
        "\n",
        "    plt.plot(range_n, rfc_val_scores)\n",
        "    plt.title(\"Random Forest Classifier\")\n",
        "    plt.xlabel('Value of n_estimator')  \n",
        "    plt.ylabel('Cross-Validated Accuracy')  \n",
        "    plt.show()\n",
        "    return  rfc_val_scores"
      ],
      "execution_count": 0,
      "outputs": []
    },
    {
      "cell_type": "markdown",
      "metadata": {
        "id": "ck4l7vV3ID09",
        "colab_type": "text"
      },
      "source": [
        "### 9.1 RF with PCA cross validation"
      ]
    },
    {
      "cell_type": "code",
      "metadata": {
        "colab_type": "code",
        "id": "mhvnU1lPYXGd",
        "outputId": "b0a1a2ad-1736-433a-f47d-b3ea2d0e6e14",
        "colab": {
          "base_uri": "https://localhost:8080/",
          "height": 377
        }
      },
      "source": [
        "rfc_val_pca_scores = RandomForest_valid(pca_data_train,label_train) # run RF"
      ],
      "execution_count": 0,
      "outputs": [
        {
          "output_type": "stream",
          "text": [
            "validation of random forest done! Time elapsed: 629.233764 seconds\n"
          ],
          "name": "stdout"
        },
        {
          "output_type": "display_data",
          "data": {
            "image/png": "[encoded data removed]",
            "text/plain": [
              "<Figure size 432x288 with 1 Axes>"
            ]
          },
          "metadata": {
            "tags": [],
            "needs_background": "light"
          }
        }
      ]
    },
    {
      "cell_type": "code",
      "metadata": {
        "id": "3XrZMRHweEn8",
        "colab_type": "code",
        "outputId": "f3c63526-b8bf-4253-ba2e-e7809e601c90",
        "colab": {}
      },
      "source": [
        "rfc_val_pca_scores"
      ],
      "execution_count": 0,
      "outputs": [
        {
          "output_type": "execute_result",
          "data": {
            "text/plain": [
              "[0.8354000000000001, 0.8633000000000001, 0.8681666666666666]"
            ]
          },
          "metadata": {
            "tags": []
          },
          "execution_count": 61
        }
      ]
    },
    {
      "cell_type": "code",
      "metadata": {
        "id": "90KCt8gMeEoA",
        "colab_type": "code",
        "outputId": "7994f5a2-8b2d-4e9f-ed37-3eb49bf06657",
        "colab": {}
      },
      "source": [
        "max_score = max(rfc_val_pca_scores)\n",
        "best_n_estimators = rfc_val_pca_scores.index(max_score)*50\n",
        "print(max_score,\"Optimal parameter:\",best_n_estimators)"
      ],
      "execution_count": 0,
      "outputs": [
        {
          "output_type": "stream",
          "text": [
            "0.8681666666666666 Optimal parameter: 100\n"
          ],
          "name": "stdout"
        }
      ]
    },
    {
      "cell_type": "code",
      "metadata": {
        "id": "nlVefMxQeEoE",
        "colab_type": "code",
        "outputId": "f838846e-dc97-4f8f-ba55-cee2f10688b5",
        "colab": {}
      },
      "source": [
        "rfc_pca = RandomForestClassifier(n_estimators=100, max_depth=50, n_jobs=10)\n",
        "time_start = time.time()\n",
        "rfc_pca.fit(pca_data_train, label_train)\n",
        "print('Model training time elapsed: {:.6f} seconds'.format(time.time()-time_start))"
      ],
      "execution_count": 0,
      "outputs": [
        {
          "output_type": "stream",
          "text": [
            "Model training time elapsed: 53.225708 seconds\n"
          ],
          "name": "stdout"
        }
      ]
    },
    {
      "cell_type": "code",
      "metadata": {
        "id": "HMzieWsBeEoG",
        "colab_type": "code",
        "outputId": "9e713596-248b-4362-adb3-a964d6df9c63",
        "colab": {}
      },
      "source": [
        "time_start = time.time()\n",
        "print(rfc_pca.score(pca_data_test,label_test)) # check the result\n",
        "print('Time elapsed: {:.6f} seconds'.format(time.time()-time_start))"
      ],
      "execution_count": 0,
      "outputs": [
        {
          "output_type": "stream",
          "text": [
            "0.8614\n",
            "Time elapsed: 0.236405 seconds\n"
          ],
          "name": "stdout"
        }
      ]
    },
    {
      "cell_type": "markdown",
      "metadata": {
        "id": "trjKVGoqIVDc",
        "colab_type": "text"
      },
      "source": [
        "### 9.2 RF with SVD cross validation"
      ]
    },
    {
      "cell_type": "code",
      "metadata": {
        "id": "K6tP3p30eEoK",
        "colab_type": "code",
        "outputId": "2459528b-378a-43ab-80dd-7756e65f452e",
        "colab": {}
      },
      "source": [
        "# calling Random forest validation function\n",
        "rfc_val_svd_scores = RandomForest_valid(svd_data_train,label_train)"
      ],
      "execution_count": 0,
      "outputs": [
        {
          "output_type": "stream",
          "text": [
            "validation of random forest done! Time elapsed: 615.575219 seconds\n"
          ],
          "name": "stdout"
        },
        {
          "output_type": "display_data",
          "data": {
            "image/png": "[encoded data removed]",
            "text/plain": [
              "<Figure size 432x288 with 1 Axes>"
            ]
          },
          "metadata": {
            "tags": [],
            "needs_background": "light"
          }
        }
      ]
    },
    {
      "cell_type": "code",
      "metadata": {
        "id": "TOeTANHieEoO",
        "colab_type": "code",
        "outputId": "413a14b0-1380-44da-ea97-f9257e74e4c0",
        "colab": {}
      },
      "source": [
        "rfc_val_svd_scores"
      ],
      "execution_count": 0,
      "outputs": [
        {
          "output_type": "execute_result",
          "data": {
            "text/plain": [
              "[0.84005, 0.8666833333333333, 0.8698833333333333]"
            ]
          },
          "metadata": {
            "tags": []
          },
          "execution_count": 68
        }
      ]
    },
    {
      "cell_type": "code",
      "metadata": {
        "id": "rfyS25PkeEoR",
        "colab_type": "code",
        "outputId": "ae24d0c8-2c77-4c5a-d1c2-88183ee1c0d4",
        "colab": {}
      },
      "source": [
        "# find max mean accuracy and best n_estimator\n",
        "max_score = max(rfc_val_svd_scores)\n",
        "best_n_estimators = rfc_val_svd_scores.index(max_score)*50\n",
        "print(max_score,best_n_estimators)"
      ],
      "execution_count": 0,
      "outputs": [
        {
          "output_type": "stream",
          "text": [
            "0.8698833333333333 100\n"
          ],
          "name": "stdout"
        }
      ]
    },
    {
      "cell_type": "code",
      "metadata": {
        "id": "-gJVXbCheEoT",
        "colab_type": "code",
        "outputId": "e9c5bf88-8247-4ef1-c372-026fc9a0bb98",
        "colab": {}
      },
      "source": [
        "rfc_svd = RandomForestClassifier(n_estimators=100, max_depth=50, n_jobs=10)\n",
        "time_start = time.time()\n",
        "rfc_svd.fit(svd_data_train, label_train)\n",
        "print('Model training time elapsed: {:.6f} seconds'.format(time.time()-time_start))"
      ],
      "execution_count": 0,
      "outputs": [
        {
          "output_type": "stream",
          "text": [
            "Model training time elapsed: 52.844728 seconds\n"
          ],
          "name": "stdout"
        }
      ]
    },
    {
      "cell_type": "code",
      "metadata": {
        "id": "dssIGjZ7eEoX",
        "colab_type": "code",
        "outputId": "509f87bc-4df1-4755-ae3d-9126bcf41be8",
        "colab": {}
      },
      "source": [
        "time_start = time.time()\n",
        "print(rfc_svd.score(svd_data_test,label_test))\n",
        "print('Time elapsed: {:.6f} seconds'.format(time.time()-time_start))"
      ],
      "execution_count": 0,
      "outputs": [
        {
          "output_type": "stream",
          "text": [
            "0.864\n",
            "Time elapsed: 0.351059 seconds\n"
          ],
          "name": "stdout"
        }
      ]
    },
    {
      "cell_type": "markdown",
      "metadata": {
        "id": "Q8SEopR4IafM",
        "colab_type": "text"
      },
      "source": [
        "### 9. 3  RF with auto encoder cross validation"
      ]
    },
    {
      "cell_type": "code",
      "metadata": {
        "id": "xYz0GxQyeEoZ",
        "colab_type": "code",
        "outputId": "0d3132e6-66b3-445f-b82a-790ef952c890",
        "colab": {}
      },
      "source": [
        "# calling random forest validation function\n",
        "rfc_val_encoded_scores = RandomForest_valid(encoded_train,label_train)"
      ],
      "execution_count": 0,
      "outputs": [
        {
          "output_type": "stream",
          "text": [
            "validation of random forest done! Time elapsed: 620.726569 seconds\n"
          ],
          "name": "stdout"
        },
        {
          "output_type": "display_data",
          "data": {
            "image/png": "[encoded data removed]",
            "text/plain": [
              "<Figure size 432x288 with 1 Axes>"
            ]
          },
          "metadata": {
            "tags": [],
            "needs_background": "light"
          }
        }
      ]
    },
    {
      "cell_type": "code",
      "metadata": {
        "id": "cwmTbfoCeEob",
        "colab_type": "code",
        "outputId": "6ce0561d-293a-4220-8127-d8513f1875ee",
        "colab": {}
      },
      "source": [
        "rfc_val_encoded_scores"
      ],
      "execution_count": 0,
      "outputs": [
        {
          "output_type": "execute_result",
          "data": {
            "text/plain": [
              "[0.8168166666666666, 0.8294666666666666, 0.8311166666666667]"
            ]
          },
          "metadata": {
            "tags": []
          },
          "execution_count": 69
        }
      ]
    },
    {
      "cell_type": "code",
      "metadata": {
        "id": "5suopPT8eEod",
        "colab_type": "code",
        "outputId": "85ed1d04-4b12-46f7-a230-e6bf264b0e43",
        "colab": {}
      },
      "source": [
        "# output max and beset estimators\n",
        "max_score = max(rfc_val_encoded_scores)\n",
        "best_n_estimators = rfc_val_encoded_scores.index(max_score)*50\n",
        "print(max_score,best_n_estimators)"
      ],
      "execution_count": 0,
      "outputs": [
        {
          "output_type": "stream",
          "text": [
            "0.8311166666666667 100\n"
          ],
          "name": "stdout"
        }
      ]
    },
    {
      "cell_type": "code",
      "metadata": {
        "id": "I3RtupGleEoh",
        "colab_type": "code",
        "outputId": "db2a0b65-b74f-4380-f49d-ff1da342a6c2",
        "colab": {}
      },
      "source": [
        "# output construction of model time\n",
        "rfc_encoded = RandomForestClassifier(n_estimators=100, max_depth=50, n_jobs=10)\n",
        "time_start = time.time()\n",
        "rfc_encoded.fit(encoded_train, label_train)\n",
        "print('Model training time elapsed: {:.6f} seconds'.format(time.time()-time_start))"
      ],
      "execution_count": 0,
      "outputs": [
        {
          "output_type": "stream",
          "text": [
            "Model training time elapsed: 42.972331 seconds\n"
          ],
          "name": "stdout"
        }
      ]
    },
    {
      "cell_type": "code",
      "metadata": {
        "id": "e-rfUmobeEoj",
        "colab_type": "code",
        "outputId": "82611875-dce6-4671-991d-9ffd0ba125d8",
        "colab": {}
      },
      "source": [
        "# output prdicted time and accuracy\n",
        "time_start = time.time()\n",
        "print(rfc_encoded.score(encoded_test,label_test))\n",
        "print('Time elapsed: {:.6f} seconds'.format(time.time()-time_start))"
      ],
      "execution_count": 0,
      "outputs": [
        {
          "output_type": "stream",
          "text": [
            "0.8219\n",
            "Time elapsed: 0.218380 seconds\n"
          ],
          "name": "stdout"
        }
      ]
    },
    {
      "cell_type": "code",
      "metadata": {
        "id": "E5E3pudgSRub",
        "colab_type": "code",
        "colab": {}
      },
      "source": [
        ""
      ],
      "execution_count": 0,
      "outputs": []
    },
    {
      "cell_type": "markdown",
      "metadata": {
        "id": "RBMhOAH1VZGQ",
        "colab_type": "text"
      },
      "source": [
        "## 10. LinearSVC and crossValidation"
      ]
    },
    {
      "cell_type": "markdown",
      "metadata": {
        "id": "lwnLm_okVmGK",
        "colab_type": "text"
      },
      "source": [
        "### 10.1 LSVC with PCA cross validation"
      ]
    },
    {
      "cell_type": "code",
      "metadata": {
        "colab_type": "code",
        "outputId": "9ba96c77-4539-4499-dd48-545f7c1f2960",
        "id": "Od4Z98tlWUZM",
        "colab": {
          "base_uri": "https://localhost:8080/",
          "height": 1717
        }
      },
      "source": [
        "# use Grid search to do the K fold task make the cross validation\n",
        "parameter_grid = {'C':[1,10],'loss':['hinge'],'penalty':['l2']},\n",
        "lsvc = LinearSVC(multi_class='ovr',\n",
        "                     random_state=10,\n",
        "                     dual=True)\n",
        "GS = GridSearchCV(lsvc,parameter_grid,cv = 10,return_train_score =True,n_jobs=50)\n",
        "GS.fit(pca_data_train,label_train)"
      ],
      "execution_count": 0,
      "outputs": [
        {
          "output_type": "execute_result",
          "data": {
            "text/plain": [
              "GridSearchCV(cv=10, error_score='raise-deprecating',\n",
              "       estimator=LinearSVC(C=1.0, class_weight=None, dual=True, fit_intercept=True,\n",
              "     intercept_scaling=1, loss='squared_hinge', max_iter=1000,\n",
              "     multi_class='ovr', penalty='l2', random_state=10, tol=0.0001,\n",
              "     verbose=0),\n",
              "       fit_params=None, iid='warn', n_jobs=50,\n",
              "       param_grid=({'C': [1, 10], 'loss': ['hinge'], 'penalty': ['l2']},),\n",
              "       pre_dispatch='2*n_jobs', refit=True, return_train_score=True,\n",
              "       scoring=None, verbose=0)"
            ]
          },
          "metadata": {
            "tags": []
          },
          "execution_count": 20
        }
      ]
    },
    {
      "cell_type": "code",
      "metadata": {
        "id": "zUUOBB_XWImc",
        "colab_type": "code",
        "outputId": "4f848a5d-98eb-4fbb-f87b-14dce429ea0e",
        "colab": {}
      },
      "source": [
        "lsvc = GS.best_estimator_ # find beset paramaters\n",
        "lsvc.fit(pca_data_train,label_train) # fit PCA train data"
      ],
      "execution_count": 0,
      "outputs": [
        {
          "output_type": "execute_result",
          "data": {
            "text/plain": [
              "LinearSVC(C=1, class_weight=None, dual=True, fit_intercept=True,\n",
              "     intercept_scaling=1, loss='hinge', max_iter=1000, multi_class='ovr',\n",
              "     penalty='l2', random_state=10, tol=0.0001, verbose=0)"
            ]
          },
          "metadata": {
            "tags": []
          },
          "execution_count": 27
        }
      ]
    },
    {
      "cell_type": "code",
      "metadata": {
        "scrolled": true,
        "id": "dqEFKZTaWImg",
        "colab_type": "code",
        "outputId": "15a3e2fd-4b2d-46a7-eb8f-32b2f244ac5b",
        "colab": {}
      },
      "source": [
        "lsvc.score(pca_data_test,label_test) # test the result 83.52%."
      ],
      "execution_count": 0,
      "outputs": [
        {
          "output_type": "execute_result",
          "data": {
            "text/plain": [
              "0.8352"
            ]
          },
          "metadata": {
            "tags": []
          },
          "execution_count": 28
        }
      ]
    },
    {
      "cell_type": "markdown",
      "metadata": {
        "id": "5dGDKh-8WZKt",
        "colab_type": "text"
      },
      "source": [
        "### 10.2 LSVC with SVD cross validation"
      ]
    },
    {
      "cell_type": "code",
      "metadata": {
        "id": "TkgpHeelWImi",
        "colab_type": "code",
        "outputId": "bc288d01-469d-413d-c99f-ece6cf07a3f1",
        "colab": {}
      },
      "source": [
        "lsvc = GS.best_estimator_ \n",
        "lsvc.fit(svd_data_train,label_train) # fit SVD train data"
      ],
      "execution_count": 0,
      "outputs": [
        {
          "output_type": "execute_result",
          "data": {
            "text/plain": [
              "LinearSVC(C=1, class_weight=None, dual=True, fit_intercept=True,\n",
              "     intercept_scaling=1, loss='hinge', max_iter=1000, multi_class='ovr',\n",
              "     penalty='l2', random_state=10, tol=0.0001, verbose=0)"
            ]
          },
          "metadata": {
            "tags": []
          },
          "execution_count": 35
        }
      ]
    },
    {
      "cell_type": "code",
      "metadata": {
        "id": "XkGfKyYeWImk",
        "colab_type": "code",
        "outputId": "1e73b1bd-2699-44ee-a699-d32693ab2129",
        "colab": {}
      },
      "source": [
        "lsvc.score(svd_data_test,label_test) # test the result 83.54%."
      ],
      "execution_count": 0,
      "outputs": [
        {
          "output_type": "execute_result",
          "data": {
            "text/plain": [
              "0.8354"
            ]
          },
          "metadata": {
            "tags": []
          },
          "execution_count": 36
        }
      ]
    },
    {
      "cell_type": "markdown",
      "metadata": {
        "id": "3JKqZbBhWcmZ",
        "colab_type": "text"
      },
      "source": [
        "### 10.3 LSVC with auto encoder cross validation"
      ]
    },
    {
      "cell_type": "code",
      "metadata": {
        "id": "pNrnHlhpWImm",
        "colab_type": "code",
        "outputId": "2ce65cda-3d94-4358-cdca-d16c6336db70",
        "colab": {}
      },
      "source": [
        "lsvc = GS.best_estimator_\n",
        "lsvc.fit(encoded_train,label_train) # fit encoded train data "
      ],
      "execution_count": 0,
      "outputs": [
        {
          "output_type": "execute_result",
          "data": {
            "text/plain": [
              "LinearSVC(C=1, class_weight=None, dual=True, fit_intercept=True,\n",
              "     intercept_scaling=1, loss='hinge', max_iter=1000, multi_class='ovr',\n",
              "     penalty='l2', random_state=10, tol=0.0001, verbose=0)"
            ]
          },
          "metadata": {
            "tags": []
          },
          "execution_count": 37
        }
      ]
    },
    {
      "cell_type": "code",
      "metadata": {
        "id": "e_dqJDRLWImo",
        "colab_type": "code",
        "outputId": "2106fdab-132a-49f1-a785-1bc0e92eb0df",
        "colab": {}
      },
      "source": [
        "lsvc.score(encoded_test,label_test) # test the result  68.49%."
      ],
      "execution_count": 0,
      "outputs": [
        {
          "output_type": "execute_result",
          "data": {
            "text/plain": [
              "0.6849"
            ]
          },
          "metadata": {
            "tags": []
          },
          "execution_count": 38
        }
      ]
    },
    {
      "cell_type": "code",
      "metadata": {
        "id": "Yz_EpTQTXmIZ",
        "colab_type": "code",
        "colab": {}
      },
      "source": [
        ""
      ],
      "execution_count": 0,
      "outputs": []
    },
    {
      "cell_type": "code",
      "metadata": {
        "id": "j4RXG_ciXmPp",
        "colab_type": "code",
        "colab": {}
      },
      "source": [
        ""
      ],
      "execution_count": 0,
      "outputs": []
    },
    {
      "cell_type": "code",
      "metadata": {
        "id": "rBf-pRImXmCc",
        "colab_type": "code",
        "colab": {}
      },
      "source": [
        ""
      ],
      "execution_count": 0,
      "outputs": []
    }
  ]
}